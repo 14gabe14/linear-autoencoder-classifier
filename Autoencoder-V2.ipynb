{
 "cells": [
  {
   "cell_type": "markdown",
   "metadata": {},
   "source": [
    "## Autoencoder + Classifier for MNIST dataset"
   ]
  },
  {
   "cell_type": "code",
   "execution_count": 1,
   "metadata": {},
   "outputs": [],
   "source": [
    "import torch \n",
    "from torch.utils.data import Dataset, DataLoader \n",
    "\n",
    "import torch.autograd as autograd         # computation graph\n",
    "from torch import Tensor                  # tensor node in the computation graph\n",
    "import torch.nn as nn                     # neural networks\n",
    "import torch.nn.functional as F           # layers, activations and more\n",
    "import torch.optim as optim               # optimizers e.g. gradient descent, ADAM, etc.\n",
    "\n",
    "from torchvision import datasets, models, transforms     # vision datasets,\n",
    "                                                         # architectures &\n",
    "                                                         # transforms\n",
    "from torchvision.utils import save_image\n",
    "import torchvision.transforms as transforms              # composable transforms"
   ]
  },
  {
   "cell_type": "code",
   "execution_count": 2,
   "metadata": {},
   "outputs": [],
   "source": [
    "import os\n",
    "if not os.path.exists('./ae_v2_img'):\n",
    "    os.mkdir('./ae_v2_img')\n",
    "import numpy as np"
   ]
  },
  {
   "cell_type": "code",
   "execution_count": 3,
   "metadata": {},
   "outputs": [],
   "source": [
    "num_epochs = 100\n",
    "batch_size = 128\n",
    "learning_rate = 1e-3"
   ]
  },
  {
   "cell_type": "code",
   "execution_count": 4,
   "metadata": {},
   "outputs": [],
   "source": [
    "def to_img(x):\n",
    "    x = 0.5 * (x + 1)\n",
    "    x = x.clamp(0, 1)\n",
    "    x = x.view(x.size(0), 1, 28, 28)\n",
    "    return x"
   ]
  },
  {
   "cell_type": "code",
   "execution_count": 5,
   "metadata": {},
   "outputs": [],
   "source": [
    "transform = transforms.Compose([transforms.ToTensor(),\n",
    "                               transforms.Normalize([0.5], [0.5])])\n",
    "\n",
    "full_trainset = datasets.MNIST(root='./data', train=True, transform=transform, target_transform=None, download=True)\n",
    "\n",
    "len_train = int(0.8 * len(full_trainset))\n",
    "len_val = len(full_trainset) - len_train\n",
    "\n",
    "train_set, val_set = torch.utils.data.random_split(full_trainset, [len_train, len_val]) \n",
    "\n",
    "val_loader = DataLoader(val_set, batch_size=batch_size, shuffle=True)\n",
    "train_loader = DataLoader(train_set, batch_size=batch_size, shuffle=True)\n",
    "\n",
    "test_set = datasets.MNIST(root='./data', train=False, transform=transform, target_transform=None, download=True)\n",
    "test_loader = DataLoader(test_set, batch_size=batch_size, shuffle=True)"
   ]
  },
  {
   "cell_type": "code",
   "execution_count": 6,
   "metadata": {
    "scrolled": true
   },
   "outputs": [
    {
     "data": {
      "text/plain": [
       "48000"
      ]
     },
     "execution_count": 6,
     "metadata": {},
     "output_type": "execute_result"
    }
   ],
   "source": [
    "len(train_set)"
   ]
  },
  {
   "cell_type": "code",
   "execution_count": 7,
   "metadata": {
    "scrolled": false
   },
   "outputs": [
    {
     "data": {
      "text/plain": [
       "<matplotlib.image.AxesImage at 0x189f097df48>"
      ]
     },
     "execution_count": 7,
     "metadata": {},
     "output_type": "execute_result"
    },
    {
     "data": {
      "image/png": "[encoded data removed]",
      "text/plain": [
       "<Figure size 432x288 with 1 Axes>"
      ]
     },
     "metadata": {
      "needs_background": "light"
     },
     "output_type": "display_data"
    }
   ],
   "source": [
    "from matplotlib import pyplot as plt\n",
    "%matplotlib inline\n",
    "\n",
    "images, labels = iter(train_loader).next()\n",
    "img = images[0][0].numpy()\n",
    "plt.imshow(img)"
   ]
  },
  {
   "cell_type": "code",
   "execution_count": 8,
   "metadata": {},
   "outputs": [],
   "source": [
    "class Network(nn.Module):\n",
    "    def __init__(self, bottleneck = 8):\n",
    "        super(Network, self).__init__()\n",
    "        \n",
    "        self.encoder = nn.Sequential(nn.Linear(784, 128),\n",
    "                                    nn.ReLU(),\n",
    "                                    nn.Linear(128, 64),\n",
    "                                    nn.ReLU(),\n",
    "                                    nn.Linear(64, 16), \n",
    "                                    nn.ReLU(),\n",
    "                                    nn.Linear(16, bottleneck),\n",
    "                                    nn.ReLU())\n",
    "        \n",
    "        self.decoder = nn.Sequential(nn.Linear(bottleneck, 16),\n",
    "                                    nn.ReLU(),\n",
    "                                    nn.Linear(16, 32),\n",
    "                                    nn.ReLU(),\n",
    "                                    nn.Linear(32, 128),\n",
    "                                    nn.ReLU(),\n",
    "                                    nn.Linear(128, 784),\n",
    "                                    nn.Tanh())\n",
    "        \n",
    "        self.classifier = nn.Sequential(nn.Linear(bottleneck, 64),\n",
    "                                        nn.ReLU(),\n",
    "                                        nn.Linear(64, 32),\n",
    "                                        nn.ReLU(),\n",
    "                                        nn.Linear(32, 10),\n",
    "                                        nn.LogSoftmax(dim=1))\n",
    "        self.config = \"decoder\"\n",
    "        \n",
    "    def forward(self, x,):\n",
    "        encoded = self.encoder(x)\n",
    "        if self.config==\"decoder\":\n",
    "            out = self.decoder(encoded)\n",
    "        elif self.config==\"classifier\":\n",
    "            out = self.classifier(encoded)\n",
    "        else:\n",
    "            print(\"error\")\n",
    "            return\n",
    "        \n",
    "        return out\n",
    "        "
   ]
  },
  {
   "cell_type": "code",
   "execution_count": 9,
   "metadata": {},
   "outputs": [],
   "source": [
    "model = Network()"
   ]
  },
  {
   "cell_type": "code",
   "execution_count": 10,
   "metadata": {},
   "outputs": [],
   "source": [
    "for param in model.classifier.parameters():\n",
    "    param.requires_grad = False"
   ]
  },
  {
   "cell_type": "code",
   "execution_count": 11,
   "metadata": {
    "scrolled": true
   },
   "outputs": [],
   "source": [
    "criterion = nn.MSELoss()\n",
    "optimizer = optim.Adam(model.parameters(), lr=learning_rate)"
   ]
  },
  {
   "cell_type": "code",
   "execution_count": 12,
   "metadata": {
    "scrolled": true
   },
   "outputs": [
    {
     "name": "stdout",
     "output_type": "stream",
     "text": [
      "epoch [1/100], \tTraining Loss:34.1727 \tValidation Loss:26.7879\n",
      "Validation loss has decreased (inf-->26.7879). Model saved...\n",
      "epoch [2/100], \tTraining Loss:22.6031 \tValidation Loss:19.8073\n",
      "Validation loss has decreased (26.7879-->19.8073). Model saved...\n",
      "epoch [3/100], \tTraining Loss:18.8241 \tValidation Loss:18.1555\n",
      "Validation loss has decreased (19.8073-->18.1555). Model saved...\n",
      "epoch [4/100], \tTraining Loss:17.2469 \tValidation Loss:16.5161\n",
      "Validation loss has decreased (18.1555-->16.5161). Model saved...\n",
      "epoch [5/100], \tTraining Loss:15.9202 \tValidation Loss:15.6468\n",
      "Validation loss has decreased (16.5161-->15.6468). Model saved...\n",
      "epoch [6/100], \tTraining Loss:15.2455 \tValidation Loss:15.1638\n",
      "Validation loss has decreased (15.6468-->15.1638). Model saved...\n",
      "epoch [7/100], \tTraining Loss:14.8267 \tValidation Loss:14.8243\n",
      "Validation loss has decreased (15.1638-->14.8243). Model saved...\n",
      "epoch [8/100], \tTraining Loss:14.5097 \tValidation Loss:14.4982\n",
      "Validation loss has decreased (14.8243-->14.4982). Model saved...\n",
      "epoch [9/100], \tTraining Loss:14.2579 \tValidation Loss:14.3150\n",
      "Validation loss has decreased (14.4982-->14.3150). Model saved...\n",
      "epoch [10/100], \tTraining Loss:13.9970 \tValidation Loss:14.0124\n",
      "Validation loss has decreased (14.3150-->14.0124). Model saved...\n",
      "epoch [11/100], \tTraining Loss:13.6629 \tValidation Loss:13.6754\n",
      "Validation loss has decreased (14.0124-->13.6754). Model saved...\n",
      "epoch [12/100], \tTraining Loss:13.3484 \tValidation Loss:13.3568\n",
      "Validation loss has decreased (13.6754-->13.3568). Model saved...\n",
      "epoch [13/100], \tTraining Loss:13.0628 \tValidation Loss:13.1670\n",
      "Validation loss has decreased (13.3568-->13.1670). Model saved...\n",
      "epoch [14/100], \tTraining Loss:12.8287 \tValidation Loss:12.8226\n",
      "Validation loss has decreased (13.1670-->12.8226). Model saved...\n",
      "epoch [15/100], \tTraining Loss:12.5659 \tValidation Loss:12.6094\n",
      "Validation loss has decreased (12.8226-->12.6094). Model saved...\n",
      "epoch [16/100], \tTraining Loss:12.2881 \tValidation Loss:12.3140\n",
      "Validation loss has decreased (12.6094-->12.3140). Model saved...\n",
      "epoch [17/100], \tTraining Loss:12.0399 \tValidation Loss:12.0507\n",
      "Validation loss has decreased (12.3140-->12.0507). Model saved...\n",
      "epoch [18/100], \tTraining Loss:11.8593 \tValidation Loss:11.9415\n",
      "Validation loss has decreased (12.0507-->11.9415). Model saved...\n",
      "epoch [19/100], \tTraining Loss:11.6914 \tValidation Loss:11.8087\n",
      "Validation loss has decreased (11.9415-->11.8087). Model saved...\n",
      "epoch [20/100], \tTraining Loss:11.5508 \tValidation Loss:11.6983\n",
      "Validation loss has decreased (11.8087-->11.6983). Model saved...\n",
      "epoch [21/100], \tTraining Loss:11.4241 \tValidation Loss:11.5538\n",
      "Validation loss has decreased (11.6983-->11.5538). Model saved...\n",
      "epoch [22/100], \tTraining Loss:11.3225 \tValidation Loss:11.4198\n",
      "Validation loss has decreased (11.5538-->11.4198). Model saved...\n",
      "epoch [23/100], \tTraining Loss:11.2089 \tValidation Loss:11.3453\n",
      "Validation loss has decreased (11.4198-->11.3453). Model saved...\n",
      "epoch [24/100], \tTraining Loss:11.1164 \tValidation Loss:11.4074\n",
      "epoch [25/100], \tTraining Loss:11.0465 \tValidation Loss:11.2467\n",
      "Validation loss has decreased (11.3453-->11.2467). Model saved...\n",
      "epoch [26/100], \tTraining Loss:10.9563 \tValidation Loss:11.1263\n",
      "Validation loss has decreased (11.2467-->11.1263). Model saved...\n",
      "epoch [27/100], \tTraining Loss:10.9029 \tValidation Loss:11.0902\n",
      "Validation loss has decreased (11.1263-->11.0902). Model saved...\n",
      "epoch [28/100], \tTraining Loss:10.8362 \tValidation Loss:10.9892\n",
      "Validation loss has decreased (11.0902-->10.9892). Model saved...\n",
      "epoch [29/100], \tTraining Loss:10.7690 \tValidation Loss:10.9246\n",
      "Validation loss has decreased (10.9892-->10.9246). Model saved...\n",
      "epoch [30/100], \tTraining Loss:10.7221 \tValidation Loss:10.8933\n",
      "Validation loss has decreased (10.9246-->10.8933). Model saved...\n",
      "epoch [31/100], \tTraining Loss:10.6696 \tValidation Loss:10.8464\n",
      "Validation loss has decreased (10.8933-->10.8464). Model saved...\n",
      "epoch [32/100], \tTraining Loss:10.6264 \tValidation Loss:10.7998\n",
      "Validation loss has decreased (10.8464-->10.7998). Model saved...\n",
      "epoch [33/100], \tTraining Loss:10.5678 \tValidation Loss:10.7440\n",
      "Validation loss has decreased (10.7998-->10.7440). Model saved...\n",
      "epoch [34/100], \tTraining Loss:10.5280 \tValidation Loss:10.7030\n",
      "Validation loss has decreased (10.7440-->10.7030). Model saved...\n",
      "epoch [35/100], \tTraining Loss:10.4791 \tValidation Loss:10.7284\n",
      "epoch [36/100], \tTraining Loss:10.4371 \tValidation Loss:10.6742\n",
      "Validation loss has decreased (10.7030-->10.6742). Model saved...\n",
      "epoch [37/100], \tTraining Loss:10.4128 \tValidation Loss:10.6527\n",
      "Validation loss has decreased (10.6742-->10.6527). Model saved...\n",
      "epoch [38/100], \tTraining Loss:10.3593 \tValidation Loss:10.5624\n",
      "Validation loss has decreased (10.6527-->10.5624). Model saved...\n",
      "epoch [39/100], \tTraining Loss:10.3232 \tValidation Loss:10.5864\n",
      "epoch [40/100], \tTraining Loss:10.3078 \tValidation Loss:10.5581\n",
      "Validation loss has decreased (10.5624-->10.5581). Model saved...\n",
      "epoch [41/100], \tTraining Loss:10.2793 \tValidation Loss:10.5008\n",
      "Validation loss has decreased (10.5581-->10.5008). Model saved...\n",
      "epoch [42/100], \tTraining Loss:10.2310 \tValidation Loss:10.4709\n",
      "Validation loss has decreased (10.5008-->10.4709). Model saved...\n",
      "epoch [43/100], \tTraining Loss:10.2134 \tValidation Loss:10.4503\n",
      "Validation loss has decreased (10.4709-->10.4503). Model saved...\n",
      "epoch [44/100], \tTraining Loss:10.1726 \tValidation Loss:10.4407\n",
      "Validation loss has decreased (10.4503-->10.4407). Model saved...\n",
      "epoch [45/100], \tTraining Loss:10.1635 \tValidation Loss:10.5587\n",
      "epoch [46/100], \tTraining Loss:10.1342 \tValidation Loss:10.3573\n",
      "Validation loss has decreased (10.4407-->10.3573). Model saved...\n",
      "epoch [47/100], \tTraining Loss:10.0992 \tValidation Loss:10.3198\n",
      "Validation loss has decreased (10.3573-->10.3198). Model saved...\n",
      "epoch [48/100], \tTraining Loss:10.0709 \tValidation Loss:10.3537\n",
      "epoch [49/100], \tTraining Loss:10.0456 \tValidation Loss:10.3708\n",
      "epoch [50/100], \tTraining Loss:10.0396 \tValidation Loss:10.2176\n",
      "Validation loss has decreased (10.3198-->10.2176). Model saved...\n",
      "epoch [51/100], \tTraining Loss:10.0143 \tValidation Loss:10.2637\n",
      "epoch [52/100], \tTraining Loss:9.9849 \tValidation Loss:10.2440\n",
      "epoch [53/100], \tTraining Loss:9.9608 \tValidation Loss:10.1758\n",
      "Validation loss has decreased (10.2176-->10.1758). Model saved...\n",
      "epoch [54/100], \tTraining Loss:9.9450 \tValidation Loss:10.2034\n",
      "epoch [55/100], \tTraining Loss:9.9209 \tValidation Loss:10.2449\n",
      "epoch [56/100], \tTraining Loss:9.9112 \tValidation Loss:10.1574\n",
      "Validation loss has decreased (10.1758-->10.1574). Model saved...\n",
      "epoch [57/100], \tTraining Loss:9.8969 \tValidation Loss:10.1562\n",
      "Validation loss has decreased (10.1574-->10.1562). Model saved...\n",
      "epoch [58/100], \tTraining Loss:9.8693 \tValidation Loss:10.1132\n",
      "Validation loss has decreased (10.1562-->10.1132). Model saved...\n",
      "epoch [59/100], \tTraining Loss:9.8460 \tValidation Loss:10.0725\n",
      "Validation loss has decreased (10.1132-->10.0725). Model saved...\n",
      "epoch [60/100], \tTraining Loss:9.8334 \tValidation Loss:10.0774\n",
      "epoch [61/100], \tTraining Loss:9.8284 \tValidation Loss:10.1108\n",
      "epoch [62/100], \tTraining Loss:9.8051 \tValidation Loss:10.0649\n",
      "Validation loss has decreased (10.0725-->10.0649). Model saved...\n",
      "epoch [63/100], \tTraining Loss:9.7954 \tValidation Loss:10.0828\n",
      "epoch [64/100], \tTraining Loss:9.7677 \tValidation Loss:10.0385\n",
      "Validation loss has decreased (10.0649-->10.0385). Model saved...\n",
      "epoch [65/100], \tTraining Loss:9.7614 \tValidation Loss:10.0814\n",
      "epoch [66/100], \tTraining Loss:9.7562 \tValidation Loss:10.0313\n",
      "Validation loss has decreased (10.0385-->10.0313). Model saved...\n",
      "epoch [67/100], \tTraining Loss:9.7302 \tValidation Loss:10.0372\n",
      "epoch [68/100], \tTraining Loss:9.7253 \tValidation Loss:10.0427\n",
      "epoch [69/100], \tTraining Loss:9.7128 \tValidation Loss:10.0584\n",
      "epoch [70/100], \tTraining Loss:9.6956 \tValidation Loss:10.0168\n",
      "Validation loss has decreased (10.0313-->10.0168). Model saved...\n",
      "epoch [71/100], \tTraining Loss:9.6873 \tValidation Loss:9.9742\n",
      "Validation loss has decreased (10.0168-->9.9742). Model saved...\n",
      "epoch [72/100], \tTraining Loss:9.6706 \tValidation Loss:9.9472\n",
      "Validation loss has decreased (9.9742-->9.9472). Model saved...\n"
     ]
    },
    {
     "name": "stdout",
     "output_type": "stream",
     "text": [
      "epoch [73/100], \tTraining Loss:9.6515 \tValidation Loss:9.9708\n",
      "epoch [74/100], \tTraining Loss:9.6559 \tValidation Loss:9.9460\n",
      "Validation loss has decreased (9.9472-->9.9460). Model saved...\n",
      "epoch [75/100], \tTraining Loss:9.6328 \tValidation Loss:9.9224\n",
      "Validation loss has decreased (9.9460-->9.9224). Model saved...\n",
      "epoch [76/100], \tTraining Loss:9.6351 \tValidation Loss:9.9389\n",
      "epoch [77/100], \tTraining Loss:9.6069 \tValidation Loss:9.8968\n",
      "Validation loss has decreased (9.9224-->9.8968). Model saved...\n",
      "epoch [78/100], \tTraining Loss:9.6049 \tValidation Loss:9.9262\n",
      "epoch [79/100], \tTraining Loss:9.5882 \tValidation Loss:9.9472\n",
      "epoch [80/100], \tTraining Loss:9.5831 \tValidation Loss:9.8822\n",
      "Validation loss has decreased (9.8968-->9.8822). Model saved...\n",
      "epoch [81/100], \tTraining Loss:9.5783 \tValidation Loss:9.9104\n",
      "epoch [82/100], \tTraining Loss:9.5514 \tValidation Loss:9.8738\n",
      "Validation loss has decreased (9.8822-->9.8738). Model saved...\n",
      "epoch [83/100], \tTraining Loss:9.5613 \tValidation Loss:9.8640\n",
      "Validation loss has decreased (9.8738-->9.8640). Model saved...\n",
      "epoch [84/100], \tTraining Loss:9.5392 \tValidation Loss:9.8977\n",
      "epoch [85/100], \tTraining Loss:9.5440 \tValidation Loss:9.8812\n",
      "epoch [86/100], \tTraining Loss:9.5220 \tValidation Loss:9.8519\n",
      "Validation loss has decreased (9.8640-->9.8519). Model saved...\n",
      "epoch [87/100], \tTraining Loss:9.5119 \tValidation Loss:9.8965\n",
      "epoch [88/100], \tTraining Loss:9.5089 \tValidation Loss:9.9100\n",
      "epoch [89/100], \tTraining Loss:9.5018 \tValidation Loss:9.8148\n",
      "Validation loss has decreased (9.8519-->9.8148). Model saved...\n",
      "epoch [90/100], \tTraining Loss:9.4745 \tValidation Loss:9.7963\n",
      "Validation loss has decreased (9.8148-->9.7963). Model saved...\n",
      "epoch [91/100], \tTraining Loss:9.4933 \tValidation Loss:9.8124\n",
      "epoch [92/100], \tTraining Loss:9.4687 \tValidation Loss:9.7779\n",
      "Validation loss has decreased (9.7963-->9.7779). Model saved...\n",
      "epoch [93/100], \tTraining Loss:9.4536 \tValidation Loss:9.9148\n",
      "epoch [94/100], \tTraining Loss:9.4612 \tValidation Loss:9.7666\n",
      "Validation loss has decreased (9.7779-->9.7666). Model saved...\n",
      "epoch [95/100], \tTraining Loss:9.4453 \tValidation Loss:9.7126\n",
      "Validation loss has decreased (9.7666-->9.7126). Model saved...\n",
      "epoch [96/100], \tTraining Loss:9.4433 \tValidation Loss:9.7672\n",
      "epoch [97/100], \tTraining Loss:9.4333 \tValidation Loss:9.7779\n",
      "epoch [98/100], \tTraining Loss:9.4438 \tValidation Loss:9.7857\n",
      "epoch [99/100], \tTraining Loss:9.4036 \tValidation Loss:9.7952\n",
      "epoch [100/100], \tTraining Loss:9.4131 \tValidation Loss:9.7782\n"
     ]
    }
   ],
   "source": [
    "val_loss_min = np.Inf\n",
    "\n",
    "for epoch in range(num_epochs):\n",
    "    train_loss = 0\n",
    "    val_loss = 0\n",
    "    model.train()\n",
    "    for image, label in train_loader:\n",
    "        image = image.view(image.size(0), -1)\n",
    "        #forward\n",
    "        out = model(image)\n",
    "        loss = criterion(out, image)\n",
    "        #backward\n",
    "        optimizer.zero_grad()\n",
    "        loss.backward()\n",
    "        optimizer.step()\n",
    "        \n",
    "        train_loss += loss.item()*image.size(0)\n",
    "    \n",
    "    train_loss = train_loss/len(train_loader)\n",
    "    \n",
    "    if epoch % 10 == 0:\n",
    "        rep_pic = to_img(out)\n",
    "        save_image(rep_pic, './ae_v2_img/rep_image_{}.png'.format(epoch)) \n",
    "        original_pic = to_img(image)\n",
    "        save_image(original_pic,'./ae_v2_img/ori_image_{}.png'.format(epoch))\n",
    "        \n",
    "    model.eval()\n",
    "    for image, label in val_loader:\n",
    "        image = image.view(image.size(0), -1)\n",
    "        out = model(image)\n",
    "        loss = criterion(out, image)\n",
    "\n",
    "        val_loss += loss.item()*image.size(0)\n",
    "        \n",
    "    val_loss = val_loss/len(val_loader)\n",
    "    \n",
    "    print('epoch [{}/{}], \\tTraining Loss:{:.4f} \\tValidation Loss:{:.4f}'.format(epoch + 1, num_epochs, train_loss, val_loss))\n",
    "    \n",
    "    if val_loss < val_loss_min:\n",
    "        print('Validation loss has decreased ({:.4f}-->{:.4f}). Model saved...'.format(val_loss_min, val_loss))\n",
    "        torch.save(model.state_dict(), 'autoencoder_V2.pt')\n",
    "        val_loss_min = val_loss"
   ]
  },
  {
   "cell_type": "code",
   "execution_count": 13,
   "metadata": {},
   "outputs": [],
   "source": [
    "for param in model.classifier.parameters():\n",
    "    param.requires_grad = True"
   ]
  },
  {
   "cell_type": "code",
   "execution_count": 14,
   "metadata": {},
   "outputs": [],
   "source": [
    "for param in model.encoder.parameters():\n",
    "    param.requires_grad = False"
   ]
  },
  {
   "cell_type": "code",
   "execution_count": 15,
   "metadata": {},
   "outputs": [],
   "source": [
    "for param in model.decoder.parameters():\n",
    "    param.requires_grad = False"
   ]
  },
  {
   "cell_type": "code",
   "execution_count": 16,
   "metadata": {},
   "outputs": [],
   "source": [
    "model.config = \"classifier\""
   ]
  },
  {
   "cell_type": "code",
   "execution_count": 17,
   "metadata": {},
   "outputs": [],
   "source": [
    "criterion = nn.NLLLoss()"
   ]
  },
  {
   "cell_type": "code",
   "execution_count": 18,
   "metadata": {},
   "outputs": [],
   "source": [
    "num_epochs = 50"
   ]
  },
  {
   "cell_type": "code",
   "execution_count": 20,
   "metadata": {
    "scrolled": true
   },
   "outputs": [
    {
     "name": "stdout",
     "output_type": "stream",
     "text": [
      "epoch [1/50], \tTraining Loss:40.6486 \tValidation Loss:42.2037\n",
      "Validation loss has decreased (inf-->42.2037). Model saved...\n",
      "epoch [2/50], \tTraining Loss:39.4006 \tValidation Loss:38.7358\n",
      "Validation loss has decreased (42.2037-->38.7358). Model saved...\n",
      "epoch [3/50], \tTraining Loss:38.3902 \tValidation Loss:37.5642\n",
      "Validation loss has decreased (38.7358-->37.5642). Model saved...\n",
      "epoch [4/50], \tTraining Loss:37.4150 \tValidation Loss:39.3014\n",
      "epoch [5/50], \tTraining Loss:36.8802 \tValidation Loss:37.0484\n",
      "Validation loss has decreased (37.5642-->37.0484). Model saved...\n",
      "epoch [6/50], \tTraining Loss:36.0556 \tValidation Loss:35.9903\n",
      "Validation loss has decreased (37.0484-->35.9903). Model saved...\n",
      "epoch [7/50], \tTraining Loss:35.4909 \tValidation Loss:35.2170\n",
      "Validation loss has decreased (35.9903-->35.2170). Model saved...\n",
      "epoch [8/50], \tTraining Loss:35.0196 \tValidation Loss:35.3482\n",
      "epoch [9/50], \tTraining Loss:34.3218 \tValidation Loss:34.9070\n",
      "Validation loss has decreased (35.2170-->34.9070). Model saved...\n",
      "epoch [10/50], \tTraining Loss:33.8497 \tValidation Loss:34.4995\n",
      "Validation loss has decreased (34.9070-->34.4995). Model saved...\n",
      "epoch [11/50], \tTraining Loss:33.8280 \tValidation Loss:34.0152\n",
      "Validation loss has decreased (34.4995-->34.0152). Model saved...\n",
      "epoch [12/50], \tTraining Loss:33.1304 \tValidation Loss:34.0334\n",
      "epoch [13/50], \tTraining Loss:33.0723 \tValidation Loss:32.8757\n",
      "Validation loss has decreased (34.0152-->32.8757). Model saved...\n",
      "epoch [14/50], \tTraining Loss:32.6978 \tValidation Loss:32.3386\n",
      "Validation loss has decreased (32.8757-->32.3386). Model saved...\n",
      "epoch [15/50], \tTraining Loss:32.3635 \tValidation Loss:33.0464\n",
      "epoch [16/50], \tTraining Loss:31.9201 \tValidation Loss:32.6396\n",
      "epoch [17/50], \tTraining Loss:31.7662 \tValidation Loss:32.5022\n",
      "epoch [18/50], \tTraining Loss:31.4777 \tValidation Loss:32.3441\n",
      "epoch [19/50], \tTraining Loss:31.5777 \tValidation Loss:32.8073\n",
      "epoch [20/50], \tTraining Loss:31.1204 \tValidation Loss:31.9661\n",
      "Validation loss has decreased (32.3386-->31.9661). Model saved...\n",
      "epoch [21/50], \tTraining Loss:30.7541 \tValidation Loss:31.2527\n",
      "Validation loss has decreased (31.9661-->31.2527). Model saved...\n",
      "epoch [22/50], \tTraining Loss:30.6385 \tValidation Loss:31.7055\n",
      "epoch [23/50], \tTraining Loss:30.3869 \tValidation Loss:32.8215\n",
      "epoch [24/50], \tTraining Loss:30.2220 \tValidation Loss:31.1757\n",
      "Validation loss has decreased (31.2527-->31.1757). Model saved...\n",
      "epoch [25/50], \tTraining Loss:30.0594 \tValidation Loss:30.9666\n",
      "Validation loss has decreased (31.1757-->30.9666). Model saved...\n",
      "epoch [26/50], \tTraining Loss:29.7925 \tValidation Loss:30.2978\n",
      "Validation loss has decreased (30.9666-->30.2978). Model saved...\n",
      "epoch [27/50], \tTraining Loss:29.5721 \tValidation Loss:31.2614\n",
      "epoch [28/50], \tTraining Loss:29.4212 \tValidation Loss:30.5490\n",
      "epoch [29/50], \tTraining Loss:29.5658 \tValidation Loss:29.9665\n",
      "Validation loss has decreased (30.2978-->29.9665). Model saved...\n",
      "epoch [30/50], \tTraining Loss:29.0978 \tValidation Loss:31.4942\n",
      "epoch [31/50], \tTraining Loss:28.9861 \tValidation Loss:30.1986\n",
      "epoch [32/50], \tTraining Loss:28.8883 \tValidation Loss:30.6869\n",
      "epoch [33/50], \tTraining Loss:28.6456 \tValidation Loss:29.8628\n",
      "Validation loss has decreased (29.9665-->29.8628). Model saved...\n",
      "epoch [34/50], \tTraining Loss:28.5528 \tValidation Loss:29.7760\n",
      "Validation loss has decreased (29.8628-->29.7760). Model saved...\n",
      "epoch [35/50], \tTraining Loss:28.4347 \tValidation Loss:29.4703\n",
      "Validation loss has decreased (29.7760-->29.4703). Model saved...\n",
      "epoch [36/50], \tTraining Loss:28.2442 \tValidation Loss:30.2076\n",
      "epoch [37/50], \tTraining Loss:28.1727 \tValidation Loss:29.8009\n",
      "epoch [38/50], \tTraining Loss:28.1112 \tValidation Loss:29.1942\n",
      "Validation loss has decreased (29.4703-->29.1942). Model saved...\n",
      "epoch [39/50], \tTraining Loss:27.9011 \tValidation Loss:31.2379\n",
      "epoch [40/50], \tTraining Loss:28.0284 \tValidation Loss:29.2762\n",
      "epoch [41/50], \tTraining Loss:27.6460 \tValidation Loss:29.3959\n",
      "epoch [42/50], \tTraining Loss:27.6814 \tValidation Loss:29.8192\n",
      "epoch [43/50], \tTraining Loss:27.4845 \tValidation Loss:29.5335\n",
      "epoch [44/50], \tTraining Loss:27.4011 \tValidation Loss:28.8441\n",
      "Validation loss has decreased (29.1942-->28.8441). Model saved...\n",
      "epoch [45/50], \tTraining Loss:27.4148 \tValidation Loss:28.8984\n",
      "epoch [46/50], \tTraining Loss:27.3182 \tValidation Loss:28.5944\n",
      "Validation loss has decreased (28.8441-->28.5944). Model saved...\n",
      "epoch [47/50], \tTraining Loss:27.1909 \tValidation Loss:28.9932\n",
      "epoch [48/50], \tTraining Loss:27.0904 \tValidation Loss:29.8451\n",
      "epoch [49/50], \tTraining Loss:27.1171 \tValidation Loss:28.6974\n",
      "epoch [50/50], \tTraining Loss:26.9212 \tValidation Loss:28.3428\n",
      "Validation loss has decreased (28.5944-->28.3428). Model saved...\n"
     ]
    }
   ],
   "source": [
    "val_loss_min = np.Inf\n",
    "train_loss_arr = []\n",
    "val_loss_arr=[]\n",
    "for epoch in range(num_epochs):\n",
    "    \n",
    "    train_loss = 0\n",
    "    val_loss = 0\n",
    "    \n",
    "    model.train()\n",
    "    \n",
    "    for image, label in train_loader:\n",
    "        image = image.view(image.size(0), -1)\n",
    "        #forward\n",
    "        out = model(image)\n",
    "        loss = criterion(out, label)\n",
    "        #backward\n",
    "        optimizer.zero_grad()\n",
    "        loss.backward()\n",
    "        optimizer.step()\n",
    "        \n",
    "        train_loss += loss.item()*image.size(0)\n",
    "        \n",
    "    model.eval()\n",
    "    \n",
    "    for image, label in val_loader:\n",
    "        image = image.view(image.size(0), -1)\n",
    "        out = model(image)\n",
    "        loss = criterion(out, label)\n",
    "        \n",
    "        val_loss += loss.item()*image.size(0)\n",
    "    \n",
    "    val_loss = val_loss/len(val_loader)    \n",
    "    train_loss = train_loss/len(train_loader)\n",
    "    \n",
    "    val_loss_arr.append(val_loss)\n",
    "    train_loss_arr.append(train_loss)\n",
    "    \n",
    "    print('epoch [{}/{}], \\tTraining Loss:{:.4f} \\tValidation Loss:{:.4f}'.format(epoch + 1, num_epochs, train_loss, val_loss))\n",
    "    \n",
    "    if val_loss < val_loss_min:\n",
    "        print('Validation loss has decreased ({:.4f}-->{:.4f}). Model saved...'.format(val_loss_min, val_loss))\n",
    "        torch.save(model.state_dict(), 'autoencoder_V2.pt')\n",
    "        val_loss_min = val_loss\n",
    "    "
   ]
  },
  {
   "cell_type": "code",
   "execution_count": 23,
   "metadata": {},
   "outputs": [
    {
     "data": {
      "image/png": "[encoded data removed]",
      "text/plain": [
       "<Figure size 432x288 with 1 Axes>"
      ]
     },
     "metadata": {
      "needs_background": "light"
     },
     "output_type": "display_data"
    }
   ],
   "source": [
    "arr_x = list(range(1, num_epochs+1))\n",
    "plt.plot(arr_x, train_loss_arr, 'b-', label='train loss')\n",
    "plt.plot(arr_x, val_loss_arr, 'g-', label='validation loss')\n",
    "plt.legend(loc='upper right')\n",
    "plt.show()"
   ]
  },
  {
   "cell_type": "code",
   "execution_count": 24,
   "metadata": {
    "scrolled": false
   },
   "outputs": [
    {
     "name": "stdout",
     "output_type": "stream",
     "text": [
      "Test Loss: 0.231017\n",
      "\n",
      "Test Accuracy of     0: 97% (957/980)\n",
      "Test Accuracy of     1: 98% (1116/1135)\n",
      "Test Accuracy of     2: 93% (970/1032)\n",
      "Test Accuracy of     3: 93% (941/1010)\n",
      "Test Accuracy of     4: 91% (903/982)\n",
      "Test Accuracy of     5: 86% (772/892)\n",
      "Test Accuracy of     6: 96% (922/958)\n",
      "Test Accuracy of     7: 94% (968/1028)\n",
      "Test Accuracy of     8: 91% (887/974)\n",
      "Test Accuracy of     9: 85% (863/1009)\n",
      "\n",
      "Test Accuracy (Overall): 92% (9299/10000)\n"
     ]
    }
   ],
   "source": [
    "test_loss = 0.0\n",
    "class_correct = list(0. for i in range(10))\n",
    "class_total = list(0. for i in range(10))\n",
    "\n",
    "model.eval() # prep model for evaluation\n",
    "\n",
    "for image, target in test_loader:\n",
    "    image = image.view(image.size(0), -1)\n",
    "    output = model(image)\n",
    "    loss = criterion(output, target)\n",
    "\n",
    "    test_loss += loss.item()*image.size(0)\n",
    "\n",
    "    _, pred = torch.max(output, 1)\n",
    "    # compare predictions to true label\n",
    "    correct = np.squeeze(pred.eq(target.data.view_as(pred)))\n",
    "    # calculate test accuracy for each object class\n",
    "    for i in range(len(target)):\n",
    "        label = target.data[i]\n",
    "        class_correct[label] += correct[i].item()\n",
    "        class_total[label] += 1\n",
    "\n",
    "# calculate and print avg test loss\n",
    "test_loss = test_loss/len(test_loader.sampler)\n",
    "print('Test Loss: {:.6f}\\n'.format(test_loss))\n",
    "\n",
    "for i in range(10):\n",
    "    if class_total[i] > 0:\n",
    "        print('Test Accuracy of %5s: %2d%% (%2d/%2d)' % (\n",
    "            str(i), 100 * class_correct[i] / class_total[i],\n",
    "            np.sum(class_correct[i]), np.sum(class_total[i])))\n",
    "    else:\n",
    "        print('Test Accuracy of %5s: N/A (no training examples)' % (classes[i]))\n",
    "\n",
    "print('\\nTest Accuracy (Overall): %2d%% (%2d/%2d)' % (\n",
    "    100. * np.sum(class_correct) / np.sum(class_total),\n",
    "    np.sum(class_correct), np.sum(class_total)))"
   ]
  },
  {
   "cell_type": "markdown",
   "metadata": {},
   "source": [
    "## Future Experiments\n",
    "<ul>\n",
    "    <li>Compare both models efficiency in clustering</li>\n",
    "</ul>"
   ]
  },
  {
   "cell_type": "code",
   "execution_count": null,
   "metadata": {},
   "outputs": [],
   "source": []
  }
 ],
 "metadata": {
  "kernelspec": {
   "display_name": "Python 3",
   "language": "python",
   "name": "python3"
  },
  "language_info": {
   "codemirror_mode": {
    "name": "ipython",
    "version": 3
   },
   "file_extension": ".py",
   "mimetype": "text/x-python",
   "name": "python",
   "nbconvert_exporter": "python",
   "pygments_lexer": "ipython3",
   "version": "3.7.6"
  }
 },
 "nbformat": 4,
 "nbformat_minor": 4
}
